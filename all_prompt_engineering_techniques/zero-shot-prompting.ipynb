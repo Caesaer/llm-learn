{
  "cells": [
    {
      "cell_type": "markdown",
      "metadata": {
        "id": "Jz0oipSfW3Uo"
      },
      "source": [
        "# Zero-Shot Prompting Tutorial\n",
        "\n",
        "## Overview\n",
        "\n",
        "This tutorial provides a comprehensive introduction to zero-shot prompting, a powerful technique in prompt engineering that allows language models to perform tasks without specific examples or prior training. We'll explore how to design effective zero-shot prompts and implement strategies using OpenAI's GPT models and the LangChain library.\n",
        "\n",
        "## Motivation\n",
        "\n",
        "Zero-shot prompting is crucial in modern AI applications as it enables language models to generalize to new tasks without the need for task-specific training data or fine-tuning. This capability significantly enhances the flexibility and applicability of AI systems, allowing them to adapt to a wide range of scenarios and user needs with minimal setup.\n",
        "\n",
        "## Key Components\n",
        "\n",
        "1. **Understanding Zero-Shot Learning**: An introduction to the concept and its importance in AI.\n",
        "2. **Prompt Design Principles**: Techniques for crafting effective zero-shot prompts.\n",
        "3. **Task Framing**: Methods to frame various tasks for zero-shot performance.\n",
        "4. **OpenAI Integration**: Using OpenAI's GPT models for zero-shot tasks.\n",
        "5. **LangChain Implementation**: Leveraging LangChain for structured zero-shot prompting.\n",
        "\n",
        "## Method Details\n",
        "\n",
        "The tutorial will cover several methods for implementing zero-shot prompting:\n",
        "\n",
        "1. **Direct Task Specification**: Crafting prompts that clearly define the task without examples.\n",
        "2. **Role-Based Prompting**: Assigning specific roles to the AI to guide its responses.\n",
        "3. **Format Specification**: Providing output format guidelines in the prompt.\n",
        "4. **Multi-step Reasoning**: Breaking down complex tasks into simpler zero-shot steps.\n",
        "5. **Comparative Analysis**: Evaluating different zero-shot prompt structures for the same task.\n",
        "\n",
        "Throughout the tutorial, we'll use Python code with OpenAI and LangChain to demonstrate these techniques practically.\n",
        "\n",
        "## Conclusion\n",
        "\n",
        "By the end of this tutorial, learners will have gained:\n",
        "\n",
        "1. A solid understanding of zero-shot prompting and its applications.\n",
        "2. Practical skills in designing effective zero-shot prompts for various tasks.\n",
        "3. Experience in implementing zero-shot techniques using OpenAI and LangChain.\n",
        "4. Insights into the strengths and limitations of zero-shot approaches.\n",
        "5. A foundation for further exploration and innovation in prompt engineering.\n",
        "\n",
        "This knowledge will empower learners to leverage AI models more effectively across a wide range of applications, enhancing their ability to solve novel problems and create more flexible AI systems."
      ]
    },
    {
      "cell_type": "markdown",
      "metadata": {
        "id": "Icza-rgTW3Up"
      },
      "source": [
        "## Setup\n",
        "\n",
        "Let's start by importing the necessary libraries and setting up our environment."
      ]
    },
    {
      "cell_type": "code",
      "execution_count": 16,
      "metadata": {
        "id": "eZgGHV8nW3Uq"
      },
      "outputs": [],
      "source": [
        "import os\n",
        "\n",
        "from langchain_groq import ChatGroq\n",
        "from langchain.prompts import PromptTemplate\n",
        "from langchain.chains import LLMChain\n",
        "from dotenv import load_dotenv\n",
        "\n",
        "# Load environment variables\n",
        "load_dotenv()\n",
        "\n",
        "# Set up OpenAI API key\n",
        "os.environ[\"GROQ_API_KEY\"] = 'xxx'\n",
        "\n",
        "# Initialize the language model\n",
        "llm = ChatGroq(model=\"llama-3.3-70b-versatile\")\n",
        "\n",
        "\n",
        "def create_chain(prompt_template):\n",
        "    \"\"\"\n",
        "    Create a LangChain chain with the given prompt template.\n",
        "\n",
        "    Args:\n",
        "        prompt_template (str): The prompt template string.\n",
        "\n",
        "    Returns:\n",
        "        LLMChain: A LangChain chain object.\n",
        "    \"\"\"\n",
        "    prompt = PromptTemplate.from_template(prompt_template)\n",
        "    return prompt | llm"
      ]
    },
    {
      "cell_type": "markdown",
      "metadata": {
        "id": "MQH-S72jW3Uq"
      },
      "source": [
        "## 1. Direct Task Specification\n",
        "\n",
        "In this section, we'll explore how to craft prompts that clearly define the task without providing examples. This is the essence of zero-shot prompting."
      ]
    },
    {
      "cell_type": "code",
      "execution_count": 17,
      "metadata": {
        "colab": {
          "base_uri": "https://localhost:8080/"
        },
        "id": "K80wsoofW3Uq",
        "outputId": "cbee8e20-2ee7-4ef1-f3ed-d125ddb13bb1"
      },
      "outputs": [
        {
          "output_type": "stream",
          "name": "stdout",
          "text": [
            "Text: I absolutely loved the movie! The acting was superb.\n",
            "Sentiment: Positive\n",
            "Text: The weather today is quite typical for this time of year.\n",
            "Sentiment: Neutral\n",
            "Text: I'm disappointed with the service I received at the restaurant.\n",
            "Sentiment: Negative\n"
          ]
        }
      ],
      "source": [
        "direct_task_prompt = \"\"\"Classify the sentiment of the following text as positive, negative, or neutral.\n",
        "Do not explain your reasoning, just provide the classification.\n",
        "\n",
        "Text: {text}\n",
        "\n",
        "Sentiment:\"\"\"\n",
        "\n",
        "direct_task_chain = create_chain(direct_task_prompt)\n",
        "\n",
        "# Test the direct task specification\n",
        "texts = [\n",
        "    \"I absolutely loved the movie! The acting was superb.\",\n",
        "    \"The weather today is quite typical for this time of year.\",\n",
        "    \"I'm disappointed with the service I received at the restaurant.\"\n",
        "]\n",
        "\n",
        "for text in texts:\n",
        "    result = direct_task_chain.invoke({\"text\": text}).content\n",
        "    print(f\"Text: {text}\")\n",
        "    print(f\"Sentiment: {result}\")"
      ]
    },
    {
      "cell_type": "markdown",
      "metadata": {
        "id": "bNsO0b0DW3Ur"
      },
      "source": [
        "## 2. Format Specification\n",
        "\n",
        "Providing output format guidelines in the prompt can help structure the AI's response in a zero-shot scenario."
      ]
    },
    {
      "cell_type": "code",
      "execution_count": 21,
      "metadata": {
        "colab": {
          "base_uri": "https://localhost:8080/"
        },
        "id": "ZGq33M47W3Ur",
        "outputId": "384a4a28-ec12-45d7-80b7-0980bc80c45e"
      },
      "outputs": [
        {
          "output_type": "stream",
          "name": "stdout",
          "text": [
            "Headline: 人类迈出能源革命新步：实现可控核聚变\n",
            "\n",
            "Lead: 经过数十年的努力，科学家们终于实现了可控核聚变，这一突破性成就预示着人类能源生产方式的革命。核聚变反应是太阳的能量来源，通过模拟这一过程，科学家们可以创造出清洁、几乎无限的能源。\n",
            "\n",
            "Body: 科学家们在实验室中成功地模拟了核聚变反应，实现了可控的核聚变。这一成就是通过先进的技术和材料实现的，包括超导材料、强磁场和精密控制系统。通过这一技术，科学家们可以创造出高温、密度和压力的环境，从而触发核聚变反应。\n",
            "\n",
            "此外，实现可控核聚变的意义不仅在于能源生产，还在于减少温室气体排放和环境污染。核聚变反应不产生任何温室气体、也不产生任何核废料，因此它是最清洁的能源之一。随着这一技术的发展和应用，人类可以减少对化石燃料的依赖，实现更加可持续的能源生产。\n",
            "\n",
            "另一方面，实现可控核聚变还需要进一步的研究和开发。科学家们需要继续改进技术和材料，增加反应的效率和稳定性，并解决相关的安全和环境问题。然而，当前的成就已经让人们看到了能源革命的曙光，未来人类可能会进入一个更加清洁和可持续的能源时代。\n",
            "\n",
            "Conclusion: 随着可控核聚变技术的不断发展和应用，人类可能会进入一个更加清洁和可持续的能源时代，我们期待着这一技术的进一步突破和应用。\n"
          ]
        }
      ],
      "source": [
        "format_spec_prompt = \"\"\"Generate a short news article about {topic}.\n",
        "Structure your response in the following format:\n",
        "\n",
        "Headline: [A catchy headline for the article]\n",
        "\n",
        "Lead: [A brief introductory paragraph summarizing the key points]\n",
        "\n",
        "Body: [2-3 short paragraphs providing more details]\n",
        "\n",
        "Conclusion: [A concluding sentence or call to action]\"\"\"\n",
        "\n",
        "format_spec_chain = create_chain(format_spec_prompt)\n",
        "\n",
        "# Test the format specification prompting\n",
        "topic = '人类实现了可控核聚变'\n",
        "result = format_spec_chain.invoke({\"topic\": topic}).content\n",
        "print(result)"
      ]
    },
    {
      "cell_type": "markdown",
      "metadata": {
        "id": "mvXHJhmlW3Ur"
      },
      "source": [
        "## 3. Multi-step Reasoning\n",
        "\n",
        "For complex tasks, we can break them down into simpler zero-shot steps. This approach can improve the overall performance of the model."
      ]
    },
    {
      "cell_type": "code",
      "execution_count": null,
      "metadata": {
        "id": "1mP1xq5UW3Ur",
        "outputId": "6e32b178-1417-465f-b070-828608816596"
      },
      "outputs": [
        {
          "name": "stdout",
          "output_type": "stream",
          "text": [
            "1. **Main Argument**: The primary claim of the text is that while electric vehicles (EVs) are often promoted as a solution to climate change, their environmental impact is complex and not entirely positive due to the mining for battery production and reliance on fossil fuels for electricity.\n",
            "\n",
            "2. **Supporting Evidence**: \n",
            "   - The production of batteries for electric vehicles involves significant mining operations, which can lead to habitat destruction.\n",
            "   - Mining for battery materials can also result in water pollution.\n",
            "   - The environmental benefits of electric vehicles may be undermined if the electricity used for charging is sourced from fossil fuels.\n",
            "   - Acknowledgment that improvements in renewable energy sources and battery technology could enhance the role of electric vehicles in addressing climate change in the future.\n",
            "\n",
            "3. **Potential Counterarguments**: \n",
            "   - Proponents of electric vehicles might argue that the overall lifecycle emissions of EVs are still lower than those of traditional vehicles, even when accounting for battery production and electricity sourcing.\n",
            "   - The advancements in battery recycling technologies could mitigate the negative environmental impacts associated with battery production.\n",
            "   - Renewable energy sources are rapidly growing, and the transition to green electricity could significantly improve the environmental benefits of electric vehicles.\n",
            "   - The argument could be made that the shift towards electric vehicles is a necessary step toward reducing reliance on fossil fuels, despite current limitations in technology and energy sourcing.\n"
          ]
        }
      ],
      "source": [
        "multi_step_prompt = \"\"\"Analyze the following text for its main argument, supporting evidence, and potential counterarguments.\n",
        "Provide your analysis in the following steps:\n",
        "\n",
        "1. Main Argument: Identify and state the primary claim or thesis.\n",
        "2. Supporting Evidence: List the key points or evidence used to support the main argument.\n",
        "3. Potential Counterarguments: Suggest possible objections or alternative viewpoints to the main argument.\n",
        "\n",
        "Text: {text}\n",
        "\n",
        "Analysis:\"\"\"\n",
        "\n",
        "multi_step_chain = create_chain(multi_step_prompt)\n",
        "\n",
        "# Test the multi-step reasoning approach\n",
        "text = \"\"\"While electric vehicles are often touted as a solution to climate change, their environmental impact is not as straightforward as it seems.\n",
        "The production of batteries for electric cars requires significant mining operations, which can lead to habitat destruction and water pollution.\n",
        "Moreover, if the electricity used to charge these vehicles comes from fossil fuel sources, the overall carbon footprint may not be significantly reduced.\n",
        "However, as renewable energy sources become more prevalent and battery technology improves, electric vehicles could indeed play a crucial role in combating climate change.\"\"\"\n",
        "\n",
        "result = multi_step_chain.invoke({\"text\": text}).content\n",
        "print(result)"
      ]
    },
    {
      "cell_type": "markdown",
      "metadata": {
        "id": "DbsPhq23W3Ur"
      },
      "source": [
        "## 4. Comparative Analysis\n",
        "\n",
        "Let's compare different zero-shot prompt structures for the same task to evaluate their effectiveness."
      ]
    },
    {
      "cell_type": "code",
      "execution_count": null,
      "metadata": {
        "id": "DC3ZCnWFW3Ur",
        "outputId": "3d33a4f9-a810-4b5d-ede5-3faa0f5d4549"
      },
      "outputs": [
        {
          "name": "stdout",
          "output_type": "stream",
          "text": [
            "Task: Explain conciesly the concept of blockchain technology\n",
            "\n",
            "Basic Prompt Result:\n",
            "Blockchain technology is a decentralized digital ledger system that securely records transactions across multiple computers. It ensures that once data is entered, it cannot be altered without consensus from the network participants. Each block contains a list of transactions and a cryptographic hash of the previous block, forming a chain. This structure enhances security, transparency, and trust, as it eliminates the need for a central authority and makes tampering with data extremely difficult. Blockchain is widely used in cryptocurrencies, supply chain management, and various applications requiring secure and transparent record-keeping.\n",
            "\n",
            "--------------------------------------------------\n",
            "\n",
            "Structured Prompt Result:\n",
            "### 1. Definition\n",
            "Blockchain technology is a decentralized digital ledger system that records transactions across multiple computers in a way that ensures the security, transparency, and immutability of the data. Each transaction is grouped into a block and linked to the previous block, forming a chronological chain.\n",
            "\n",
            "### 2. Key Features\n",
            "- **Decentralization**: No single entity controls the network; all participants have access to the same data.\n",
            "- **Transparency**: Transactions are visible to all users, promoting accountability.\n",
            "- **Immutability**: Once recorded, transactions cannot be altered or deleted, ensuring data integrity.\n",
            "- **Security**: Cryptographic techniques protect data, making it resistant to fraud and hacking.\n",
            "- **Consensus Mechanisms**: Various protocols (e.g., Proof of Work, Proof of Stake) are used to validate transactions and maintain network integrity.\n",
            "\n",
            "### 3. Real-world Applications\n",
            "- **Cryptocurrencies**: Digital currencies like Bitcoin and Ethereum use blockchain for secure transactions.\n",
            "- **Supply Chain Management**: Enhances traceability and transparency in tracking goods from origin to destination.\n",
            "- **Smart Contracts**: Self-executing contracts with the terms directly written into code, automating processes without intermediaries.\n",
            "- **Voting Systems**: Secure and transparent voting solutions to enhance electoral integrity.\n",
            "- **Healthcare**: Secure sharing of patient data across platforms while maintaining privacy.\n",
            "\n",
            "### 4. Potential Impact on Industries\n",
            "- **Finance**: Reduces costs and increases transaction speeds by eliminating intermediaries, enabling faster cross-border payments.\n",
            "- **Real Estate**: Streamlines property transactions through transparent records and fractional ownership possibilities.\n",
            "- **Insurance**: Automates claims processing and fraud detection through smart contracts.\n",
            "- **Manufacturing**: Enhances quality control and accountability in the production process through improved supply chain visibility.\n",
            "- **Government**: Increases transparency in public records and reduces corruption through tamper-proof systems. \n",
            "\n",
            "Overall, blockchain technology has the potential to revolutionize various sectors by improving efficiency, transparency, and security.\n",
            "\n",
            "--------------------------------------------------\n",
            "\n"
          ]
        }
      ],
      "source": [
        "def compare_prompts(task, prompt_templates):\n",
        "    \"\"\"\n",
        "    Compare different prompt templates for the same task.\n",
        "\n",
        "    Args:\n",
        "        task (str): The task description or input.\n",
        "        prompt_templates (dict): A dictionary of prompt templates with their names as keys.\n",
        "    \"\"\"\n",
        "    print(f\"Task: {task}\\n\")\n",
        "    for name, template in prompt_templates.items():\n",
        "        chain = create_chain(template)\n",
        "        result = chain.invoke({\"task\": task}).content\n",
        "        print(f\"{name} Prompt Result:\")\n",
        "        print(result)\n",
        "        print(\"\\n\" + \"-\"*50 + \"\\n\")\n",
        "\n",
        "task = \"Explain conciesly the concept of blockchain technology\"\n",
        "\n",
        "prompt_templates = {\n",
        "    \"Basic\": \"Explain {task}.\",\n",
        "    \"Structured\": \"\"\"Explain {task} by addressing the following points:\n",
        "1. Definition\n",
        "2. Key features\n",
        "3. Real-world applications\n",
        "4. Potential impact on industries\"\"\"\n",
        "}\n",
        "\n",
        "compare_prompts(task, prompt_templates)"
      ]
    }
  ],
  "metadata": {
    "kernelspec": {
      "display_name": ".venv",
      "language": "python",
      "name": "python3"
    },
    "language_info": {
      "codemirror_mode": {
        "name": "ipython",
        "version": 3
      },
      "file_extension": ".py",
      "mimetype": "text/x-python",
      "name": "python",
      "nbconvert_exporter": "python",
      "pygments_lexer": "ipython3",
      "version": "3.12.0"
    },
    "colab": {
      "provenance": []
    }
  },
  "nbformat": 4,
  "nbformat_minor": 0
}
